{
 "cells": [
  {
   "cell_type": "code",
   "execution_count": 43,
   "id": "5401163a",
   "metadata": {},
   "outputs": [],
   "source": [
    "\n",
    "import numpy as np\n",
    "import pandas as pd \n",
    "import matplotlib.pyplot as plt\n",
    "import seaborn as sns\n",
    "%matplotlib inline"
   ]
  },
  {
   "cell_type": "code",
   "execution_count": 44,
   "id": "ac20d33a",
   "metadata": {},
   "outputs": [
    {
     "data": {
      "text/plain": [
       "(9551, 21)"
      ]
     },
     "execution_count": 44,
     "metadata": {},
     "output_type": "execute_result"
    }
   ],
   "source": [
    "\n",
    "url = (\"https://raw.githubusercontent.com/dsrscientist/dataset4/main/zomato.csv\")\n",
    "df1=pd.read_csv(url,encoding=\"latin-1\")\n",
    "df1.shape"
   ]
  },
  {
   "cell_type": "code",
   "execution_count": 45,
   "id": "cec4d798",
   "metadata": {},
   "outputs": [
    {
     "data": {
      "text/plain": [
       "(15, 2)"
      ]
     },
     "execution_count": 45,
     "metadata": {},
     "output_type": "execute_result"
    }
   ],
   "source": [
    "\n",
    "df2=pd.read_excel(r\"F:Country-Code.xlsx\")\n",
    "df2.shape"
   ]
  },
  {
   "cell_type": "code",
   "execution_count": 48,
   "id": "ea70b908",
   "metadata": {},
   "outputs": [],
   "source": [
    "pd.set_option(\"display.max_column\", None)\n",
    "pd.set_option(\"display.max_row\", None)"
   ]
  },
  {
   "cell_type": "code",
   "execution_count": 49,
   "id": "569bc8c8",
   "metadata": {},
   "outputs": [
    {
     "data": {
      "text/html": [
       "<div>\n",
       "<style scoped>\n",
       "    .dataframe tbody tr th:only-of-type {\n",
       "        vertical-align: middle;\n",
       "    }\n",
       "\n",
       "    .dataframe tbody tr th {\n",
       "        vertical-align: top;\n",
       "    }\n",
       "\n",
       "    .dataframe thead th {\n",
       "        text-align: right;\n",
       "    }\n",
       "</style>\n",
       "<table border=\"1\" class=\"dataframe\">\n",
       "  <thead>\n",
       "    <tr style=\"text-align: right;\">\n",
       "      <th></th>\n",
       "      <th>Restaurant ID</th>\n",
       "      <th>Restaurant Name</th>\n",
       "      <th>Country Code</th>\n",
       "      <th>City</th>\n",
       "      <th>Address</th>\n",
       "      <th>Locality</th>\n",
       "      <th>Locality Verbose</th>\n",
       "      <th>Longitude</th>\n",
       "      <th>Latitude</th>\n",
       "      <th>Cuisines</th>\n",
       "      <th>Average Cost for two</th>\n",
       "      <th>Currency</th>\n",
       "      <th>Has Table booking</th>\n",
       "      <th>Has Online delivery</th>\n",
       "      <th>Is delivering now</th>\n",
       "      <th>Switch to order menu</th>\n",
       "      <th>Price range</th>\n",
       "      <th>Aggregate rating</th>\n",
       "      <th>Rating color</th>\n",
       "      <th>Rating text</th>\n",
       "      <th>Votes</th>\n",
       "    </tr>\n",
       "  </thead>\n",
       "  <tbody>\n",
       "    <tr>\n",
       "      <th>0</th>\n",
       "      <td>6317637</td>\n",
       "      <td>Le Petit Souffle</td>\n",
       "      <td>162</td>\n",
       "      <td>Makati City</td>\n",
       "      <td>Third Floor, Century City Mall, Kalayaan Avenu...</td>\n",
       "      <td>Century City Mall, Poblacion, Makati City</td>\n",
       "      <td>Century City Mall, Poblacion, Makati City, Mak...</td>\n",
       "      <td>121.027535</td>\n",
       "      <td>14.565443</td>\n",
       "      <td>French, Japanese, Desserts</td>\n",
       "      <td>1100</td>\n",
       "      <td>Botswana Pula(P)</td>\n",
       "      <td>Yes</td>\n",
       "      <td>No</td>\n",
       "      <td>No</td>\n",
       "      <td>No</td>\n",
       "      <td>3</td>\n",
       "      <td>4.8</td>\n",
       "      <td>Dark Green</td>\n",
       "      <td>Excellent</td>\n",
       "      <td>314</td>\n",
       "    </tr>\n",
       "    <tr>\n",
       "      <th>1</th>\n",
       "      <td>6304287</td>\n",
       "      <td>Izakaya Kikufuji</td>\n",
       "      <td>162</td>\n",
       "      <td>Makati City</td>\n",
       "      <td>Little Tokyo, 2277 Chino Roces Avenue, Legaspi...</td>\n",
       "      <td>Little Tokyo, Legaspi Village, Makati City</td>\n",
       "      <td>Little Tokyo, Legaspi Village, Makati City, Ma...</td>\n",
       "      <td>121.014101</td>\n",
       "      <td>14.553708</td>\n",
       "      <td>Japanese</td>\n",
       "      <td>1200</td>\n",
       "      <td>Botswana Pula(P)</td>\n",
       "      <td>Yes</td>\n",
       "      <td>No</td>\n",
       "      <td>No</td>\n",
       "      <td>No</td>\n",
       "      <td>3</td>\n",
       "      <td>4.5</td>\n",
       "      <td>Dark Green</td>\n",
       "      <td>Excellent</td>\n",
       "      <td>591</td>\n",
       "    </tr>\n",
       "    <tr>\n",
       "      <th>2</th>\n",
       "      <td>6300002</td>\n",
       "      <td>Heat - Edsa Shangri-La</td>\n",
       "      <td>162</td>\n",
       "      <td>Mandaluyong City</td>\n",
       "      <td>Edsa Shangri-La, 1 Garden Way, Ortigas, Mandal...</td>\n",
       "      <td>Edsa Shangri-La, Ortigas, Mandaluyong City</td>\n",
       "      <td>Edsa Shangri-La, Ortigas, Mandaluyong City, Ma...</td>\n",
       "      <td>121.056831</td>\n",
       "      <td>14.581404</td>\n",
       "      <td>Seafood, Asian, Filipino, Indian</td>\n",
       "      <td>4000</td>\n",
       "      <td>Botswana Pula(P)</td>\n",
       "      <td>Yes</td>\n",
       "      <td>No</td>\n",
       "      <td>No</td>\n",
       "      <td>No</td>\n",
       "      <td>4</td>\n",
       "      <td>4.4</td>\n",
       "      <td>Green</td>\n",
       "      <td>Very Good</td>\n",
       "      <td>270</td>\n",
       "    </tr>\n",
       "    <tr>\n",
       "      <th>3</th>\n",
       "      <td>6318506</td>\n",
       "      <td>Ooma</td>\n",
       "      <td>162</td>\n",
       "      <td>Mandaluyong City</td>\n",
       "      <td>Third Floor, Mega Fashion Hall, SM Megamall, O...</td>\n",
       "      <td>SM Megamall, Ortigas, Mandaluyong City</td>\n",
       "      <td>SM Megamall, Ortigas, Mandaluyong City, Mandal...</td>\n",
       "      <td>121.056475</td>\n",
       "      <td>14.585318</td>\n",
       "      <td>Japanese, Sushi</td>\n",
       "      <td>1500</td>\n",
       "      <td>Botswana Pula(P)</td>\n",
       "      <td>No</td>\n",
       "      <td>No</td>\n",
       "      <td>No</td>\n",
       "      <td>No</td>\n",
       "      <td>4</td>\n",
       "      <td>4.9</td>\n",
       "      <td>Dark Green</td>\n",
       "      <td>Excellent</td>\n",
       "      <td>365</td>\n",
       "    </tr>\n",
       "    <tr>\n",
       "      <th>4</th>\n",
       "      <td>6314302</td>\n",
       "      <td>Sambo Kojin</td>\n",
       "      <td>162</td>\n",
       "      <td>Mandaluyong City</td>\n",
       "      <td>Third Floor, Mega Atrium, SM Megamall, Ortigas...</td>\n",
       "      <td>SM Megamall, Ortigas, Mandaluyong City</td>\n",
       "      <td>SM Megamall, Ortigas, Mandaluyong City, Mandal...</td>\n",
       "      <td>121.057508</td>\n",
       "      <td>14.584450</td>\n",
       "      <td>Japanese, Korean</td>\n",
       "      <td>1500</td>\n",
       "      <td>Botswana Pula(P)</td>\n",
       "      <td>Yes</td>\n",
       "      <td>No</td>\n",
       "      <td>No</td>\n",
       "      <td>No</td>\n",
       "      <td>4</td>\n",
       "      <td>4.8</td>\n",
       "      <td>Dark Green</td>\n",
       "      <td>Excellent</td>\n",
       "      <td>229</td>\n",
       "    </tr>\n",
       "  </tbody>\n",
       "</table>\n",
       "</div>"
      ],
      "text/plain": [
       "   Restaurant ID         Restaurant Name  Country Code              City  \\\n",
       "0        6317637        Le Petit Souffle           162       Makati City   \n",
       "1        6304287        Izakaya Kikufuji           162       Makati City   \n",
       "2        6300002  Heat - Edsa Shangri-La           162  Mandaluyong City   \n",
       "3        6318506                    Ooma           162  Mandaluyong City   \n",
       "4        6314302             Sambo Kojin           162  Mandaluyong City   \n",
       "\n",
       "                                             Address  \\\n",
       "0  Third Floor, Century City Mall, Kalayaan Avenu...   \n",
       "1  Little Tokyo, 2277 Chino Roces Avenue, Legaspi...   \n",
       "2  Edsa Shangri-La, 1 Garden Way, Ortigas, Mandal...   \n",
       "3  Third Floor, Mega Fashion Hall, SM Megamall, O...   \n",
       "4  Third Floor, Mega Atrium, SM Megamall, Ortigas...   \n",
       "\n",
       "                                     Locality  \\\n",
       "0   Century City Mall, Poblacion, Makati City   \n",
       "1  Little Tokyo, Legaspi Village, Makati City   \n",
       "2  Edsa Shangri-La, Ortigas, Mandaluyong City   \n",
       "3      SM Megamall, Ortigas, Mandaluyong City   \n",
       "4      SM Megamall, Ortigas, Mandaluyong City   \n",
       "\n",
       "                                    Locality Verbose   Longitude   Latitude  \\\n",
       "0  Century City Mall, Poblacion, Makati City, Mak...  121.027535  14.565443   \n",
       "1  Little Tokyo, Legaspi Village, Makati City, Ma...  121.014101  14.553708   \n",
       "2  Edsa Shangri-La, Ortigas, Mandaluyong City, Ma...  121.056831  14.581404   \n",
       "3  SM Megamall, Ortigas, Mandaluyong City, Mandal...  121.056475  14.585318   \n",
       "4  SM Megamall, Ortigas, Mandaluyong City, Mandal...  121.057508  14.584450   \n",
       "\n",
       "                           Cuisines  Average Cost for two          Currency  \\\n",
       "0        French, Japanese, Desserts                  1100  Botswana Pula(P)   \n",
       "1                          Japanese                  1200  Botswana Pula(P)   \n",
       "2  Seafood, Asian, Filipino, Indian                  4000  Botswana Pula(P)   \n",
       "3                   Japanese, Sushi                  1500  Botswana Pula(P)   \n",
       "4                  Japanese, Korean                  1500  Botswana Pula(P)   \n",
       "\n",
       "  Has Table booking Has Online delivery Is delivering now  \\\n",
       "0               Yes                  No                No   \n",
       "1               Yes                  No                No   \n",
       "2               Yes                  No                No   \n",
       "3                No                  No                No   \n",
       "4               Yes                  No                No   \n",
       "\n",
       "  Switch to order menu  Price range  Aggregate rating Rating color  \\\n",
       "0                   No            3               4.8   Dark Green   \n",
       "1                   No            3               4.5   Dark Green   \n",
       "2                   No            4               4.4        Green   \n",
       "3                   No            4               4.9   Dark Green   \n",
       "4                   No            4               4.8   Dark Green   \n",
       "\n",
       "  Rating text  Votes  \n",
       "0   Excellent    314  \n",
       "1   Excellent    591  \n",
       "2   Very Good    270  \n",
       "3   Excellent    365  \n",
       "4   Excellent    229  "
      ]
     },
     "execution_count": 49,
     "metadata": {},
     "output_type": "execute_result"
    }
   ],
   "source": [
    "\n",
    "df1.head()"
   ]
  },
  {
   "cell_type": "markdown",
   "id": "83196b97",
   "metadata": {},
   "source": [
    "**From the above data, we can observe the following:**\n",
    "- Restaurant, Location, Food, Costing, Order Details, Restaurant Rating Details and we proceed to understand the data, summary statistics, data types and missing values better."
   ]
  },
  {
   "cell_type": "code",
   "execution_count": null,
   "id": "df507449",
   "metadata": {},
   "outputs": [],
   "source": [
    "# Reading country code \n",
    "df2"
   ]
  },
  {
   "cell_type": "code",
   "execution_count": null,
   "id": "01c09cd3",
   "metadata": {},
   "outputs": [],
   "source": [
    "# Merging the zomato dataset at Restaurant Id level and Country data at country code level\n",
    "dfm = pd.merge(df1, df2, on = 'Country Code') "
   ]
  },
  {
   "cell_type": "code",
   "execution_count": null,
   "id": "23e60809",
   "metadata": {},
   "outputs": [],
   "source": [
    "# View the data head \n",
    "dfm.head(2)"
   ]
  },
  {
   "cell_type": "code",
   "execution_count": null,
   "id": "80d9dd34",
   "metadata": {},
   "outputs": [],
   "source": [
    "dfm.shape"
   ]
  },
  {
   "cell_type": "code",
   "execution_count": null,
   "id": "71207942",
   "metadata": {},
   "outputs": [],
   "source": [
    "\n",
    "print(dfm.info(verbose=True))"
   ]
  },
  {
   "cell_type": "markdown",
   "id": "7f40bfaa",
   "metadata": {},
   "source": [
    "**Note:**\n",
    "- The dataset has 9551 rows and 22 column\n",
    "- There are 3 columns with float, 5 columns with int, 14 columns that are categorical\n",
    "- There is one column 'Cuisines' that has missing values"
   ]
  },
  {
   "cell_type": "code",
   "execution_count": null,
   "id": "e8346cb3",
   "metadata": {},
   "outputs": [],
   "source": [
    "\n",
    "dfm.columns[dfm.isna().any()].tolist()"
   ]
  },
  {
   "cell_type": "code",
   "execution_count": null,
   "id": "2ffdaa8f",
   "metadata": {},
   "outputs": [],
   "source": [
    "dfm.isnull().sum().sum()"
   ]
  },
  {
   "cell_type": "code",
   "execution_count": null,
   "id": "4e944563",
   "metadata": {},
   "outputs": [],
   "source": [
    "dfm.columns"
   ]
  },
  {
   "cell_type": "code",
   "execution_count": null,
   "id": "e7efffe3",
   "metadata": {},
   "outputs": [],
   "source": [
    " \n",
    "dfm.describe()"
   ]
  },
  {
   "cell_type": "code",
   "execution_count": null,
   "id": "40b968ea",
   "metadata": {},
   "outputs": [],
   "source": [
    "dfm.corr()"
   ]
  },
  {
   "cell_type": "markdown",
   "id": "f75886ad",
   "metadata": {},
   "source": [
    "# EDA"
   ]
  },
  {
   "cell_type": "code",
   "execution_count": null,
   "id": "969e7fc6",
   "metadata": {},
   "outputs": [],
   "source": [
    "sns.scatterplot(x=\"Restaurant ID\",y=\"Rating text\",data=dfm)"
   ]
  },
  {
   "cell_type": "code",
   "execution_count": null,
   "id": "a2de74c2",
   "metadata": {},
   "outputs": [],
   "source": [
    "sns.scatterplot(x=\"Restaurant Name\",y=\"Rating text\",data=dfm)"
   ]
  },
  {
   "cell_type": "code",
   "execution_count": 18,
   "id": "ee7fa4fb",
   "metadata": {},
   "outputs": [
    {
     "data": {
      "text/plain": [
       "<Axes: xlabel='City', ylabel='Rating text'>"
      ]
     },
     "execution_count": 18,
     "metadata": {},
     "output_type": "execute_result"
    },
    {
     "data": {
      "image/png": "[encoded data removed]",
      "text/plain": [
       "<Figure size 640x480 with 1 Axes>"
      ]
     },
     "metadata": {},
     "output_type": "display_data"
    }
   ],
   "source": [
    "sns.scatterplot(x=\"City\",y=\"Rating text\",data=dfm)"
   ]
  },
  {
   "cell_type": "code",
   "execution_count": null,
   "id": "84e37b23",
   "metadata": {},
   "outputs": [],
   "source": [
    "sns.scatterplot(x=\"Country Code\",y=\"Rating text\",data=dfm)"
   ]
  },
  {
   "cell_type": "code",
   "execution_count": null,
   "id": "33980a81",
   "metadata": {},
   "outputs": [],
   "source": [
    "sns.scatterplot(x=\"Address\",y=\"Rating text\",data=dfm)"
   ]
  },
  {
   "cell_type": "code",
   "execution_count": null,
   "id": "0ee0cf93",
   "metadata": {},
   "outputs": [],
   "source": [
    "sns.scatterplot(x=\"Locality\",y=\"Rating text\",data=dfm)"
   ]
  },
  {
   "cell_type": "code",
   "execution_count": null,
   "id": "5b806c60",
   "metadata": {},
   "outputs": [],
   "source": [
    "sns.scatterplot(x=\"Locality Verbose\",y=\"Rating text\",data=dfm)"
   ]
  },
  {
   "cell_type": "code",
   "execution_count": null,
   "id": "75dba5c0",
   "metadata": {},
   "outputs": [],
   "source": [
    "sns.scatterplot(x=\"Latitude\",y=\"Rating text\",data=dfm)"
   ]
  },
  {
   "cell_type": "code",
   "execution_count": null,
   "id": "ce987bd9",
   "metadata": {},
   "outputs": [],
   "source": [
    "sns.scatterplot(x=\"Longitude\",y=\"Rating text\",data=dfm)"
   ]
  },
  {
   "cell_type": "code",
   "execution_count": null,
   "id": "dfcbae4a",
   "metadata": {},
   "outputs": [],
   "source": [
    "sns.scatterplot(x=\"Cuisines\",y=\"Rating text\",data=dfm)"
   ]
  },
  {
   "cell_type": "code",
   "execution_count": null,
   "id": "c07d327a",
   "metadata": {},
   "outputs": [],
   "source": [
    "sns.scatterplot(x=\"Average Cost for two\",y=\"Rating text\",data=dfm)"
   ]
  },
  {
   "cell_type": "code",
   "execution_count": null,
   "id": "299d7c93",
   "metadata": {},
   "outputs": [],
   "source": [
    "sns.scatterplot(x=\"Currency\",y=\"Rating text\",data=dfm)"
   ]
  },
  {
   "cell_type": "code",
   "execution_count": null,
   "id": "f224dc1d",
   "metadata": {},
   "outputs": [],
   "source": [
    "sns.scatterplot(x=\"Has Table booking\",y=\"Rating text\",data=dfm)"
   ]
  },
  {
   "cell_type": "code",
   "execution_count": null,
   "id": "d4118729",
   "metadata": {},
   "outputs": [],
   "source": [
    "sns.scatterplot(x=\"Has Online delivery\",y=\"Rating text\",data=dfm)"
   ]
  },
  {
   "cell_type": "code",
   "execution_count": null,
   "id": "72489019",
   "metadata": {},
   "outputs": [],
   "source": [
    "sns.scatterplot(x=\"Switch to order menu\",y=\"Rating text\",data=dfm)"
   ]
  },
  {
   "cell_type": "code",
   "execution_count": null,
   "id": "c8ab58c3",
   "metadata": {},
   "outputs": [],
   "source": [
    "sns.scatterplot(x=\"Price range\",y=\"Rating text\",data=dfm)"
   ]
  },
  {
   "cell_type": "code",
   "execution_count": null,
   "id": "e3f3ba08",
   "metadata": {},
   "outputs": [],
   "source": [
    "sns.scatterplot(x=\"Aggregate rating\",y=\"Rating text\",data=dfm)"
   ]
  },
  {
   "cell_type": "code",
   "execution_count": null,
   "id": "1f1f3fec",
   "metadata": {},
   "outputs": [],
   "source": [
    "sns.scatterplot(x=\"Rating color\",y=\"Rating text\",data=dfm)"
   ]
  },
  {
   "cell_type": "code",
   "execution_count": null,
   "id": "53cf46eb",
   "metadata": {},
   "outputs": [],
   "source": [
    "sns.scatterplot(x=\"Votes\",y=\"Rating text\",data=dfm)"
   ]
  },
  {
   "cell_type": "code",
   "execution_count": null,
   "id": "5aef1c1b",
   "metadata": {},
   "outputs": [],
   "source": [
    "import matplotlib.pyplot as plt\n",
    "sns.pairplot(dfm)\n",
    "plt.savefig('pairplot.png')\n",
    "plt.show()"
   ]
  },
  {
   "cell_type": "code",
   "execution_count": null,
   "id": "b6b4a826",
   "metadata": {},
   "outputs": [],
   "source": [
    "dfm.corr()"
   ]
  },
  {
   "cell_type": "code",
   "execution_count": null,
   "id": "2514640f",
   "metadata": {},
   "outputs": [],
   "source": [
    "dfm.describe()"
   ]
  },
  {
   "cell_type": "code",
   "execution_count": null,
   "id": "c4965388",
   "metadata": {},
   "outputs": [],
   "source": [
    "round(0.905609,2)"
   ]
  },
  {
   "cell_type": "code",
   "execution_count": null,
   "id": "eb12a889",
   "metadata": {},
   "outputs": [],
   "source": [
    "round(131.000000)"
   ]
  },
  {
   "cell_type": "code",
   "execution_count": null,
   "id": "20c96ef4",
   "metadata": {},
   "outputs": [],
   "source": [
    "dfm.describe()[1:]"
   ]
  },
  {
   "cell_type": "code",
   "execution_count": null,
   "id": "f1386e09",
   "metadata": {},
   "outputs": [],
   "source": [
    "dfm.info()"
   ]
  },
  {
   "cell_type": "code",
   "execution_count": null,
   "id": "db8c527a",
   "metadata": {
    "scrolled": true
   },
   "outputs": [],
   "source": [
    "import matplotlib.pyplot as plt\n",
    "plt.figure(figsize =(15,12))\n",
    "sns.heatmap(round(dfm.describe()[1:].transpose(),2,linewidth=2,annot=False,fmt=\"f\")\n",
    "plt.xticks(fontsize=18)\n",
    "plt.yticks(fontsize=12)\n",
    "plt.title(\"variable summary\")\n",
    "plt.show()          "
   ]
  },
  {
   "cell_type": "code",
   "execution_count": null,
   "id": "2ca91919",
   "metadata": {},
   "outputs": [],
   "source": [
    "import warnings\n",
    "warnings.filterwarnings('ignore')"
   ]
  },
  {
   "cell_type": "code",
   "execution_count": null,
   "id": "4a2cf327",
   "metadata": {},
   "outputs": [],
   "source": [
    "collist = dfm.columns.values"
   ]
  },
  {
   "cell_type": "code",
   "execution_count": null,
   "id": "61c1acc0",
   "metadata": {},
   "outputs": [],
   "source": [
    "collist = dfm.columns.values\n",
    "ncol =30\n",
    "nrows =14"
   ]
  },
  {
   "cell_type": "code",
   "execution_count": null,
   "id": "e621b287",
   "metadata": {},
   "outputs": [],
   "source": [
    "collist"
   ]
  },
  {
   "cell_type": "code",
   "execution_count": null,
   "id": "0248f83f",
   "metadata": {},
   "outputs": [],
   "source": [
    "len(list(range(0,len(collist))))"
   ]
  },
  {
   "cell_type": "code",
   "execution_count": null,
   "id": "b61da71e",
   "metadata": {},
   "outputs": [],
   "source": [
    "for i in range (0,len(collist)):\n",
    "    print(collist[i])\n",
    "    break"
   ]
  },
  {
   "cell_type": "code",
   "execution_count": null,
   "id": "2581eced",
   "metadata": {},
   "outputs": [],
   "source": [
    "dfm[collist[i]]"
   ]
  },
  {
   "cell_type": "code",
   "execution_count": null,
   "id": "b0c2fd57",
   "metadata": {},
   "outputs": [],
   "source": [
    "plt.figure(figsize=(ncol,3*ncol))\n",
    "for i in range(0,len(collist)):\n",
    "    plt.subplot(nrows,ncol,i+1)\n",
    "    sns.boxplot(data=dfm[collist[i]],color='green',orient='v')\n",
    "    plt.tight_layout()"
   ]
  },
  {
   "cell_type": "code",
   "execution_count": null,
   "id": "09eabc21",
   "metadata": {},
   "outputs": [],
   "source": [
    "dfm.skew()"
   ]
  },
  {
   "cell_type": "code",
   "execution_count": null,
   "id": "a1b6f5c9",
   "metadata": {},
   "outputs": [],
   "source": [
    "dfm.isnull().sum().sum()"
   ]
  },
  {
   "cell_type": "code",
   "execution_count": null,
   "id": "bbc354ac",
   "metadata": {},
   "outputs": [],
   "source": [
    "\n",
    "dfm['Restaurant ID'].fillna(value=dfm['Restaurant ID'].mean())"
   ]
  },
  {
   "cell_type": "code",
   "execution_count": null,
   "id": "c3a279d8",
   "metadata": {},
   "outputs": [],
   "source": [
    "sns.distplot(dfm[\"Votes\"])"
   ]
  },
  {
   "cell_type": "code",
   "execution_count": null,
   "id": "7cc3f7c9",
   "metadata": {},
   "outputs": [],
   "source": [
    "sns.distplot(dfm[\"Price range\"])"
   ]
  },
  {
   "cell_type": "code",
   "execution_count": null,
   "id": "3cbf44ef",
   "metadata": {},
   "outputs": [],
   "source": [
    "sns.distplot(dfm[\"Average Cost for two\"])"
   ]
  },
  {
   "cell_type": "code",
   "execution_count": null,
   "id": "c07517b9",
   "metadata": {},
   "outputs": [],
   "source": [
    "sns.distplot(dfm[\"Aggregate rating\"])"
   ]
  },
  {
   "cell_type": "code",
   "execution_count": null,
   "id": "107ee8cf",
   "metadata": {},
   "outputs": [],
   "source": [
    "dfm.corr()"
   ]
  },
  {
   "cell_type": "code",
   "execution_count": null,
   "id": "f1e2c525",
   "metadata": {},
   "outputs": [],
   "source": [
    "dfm.corr()['Votes'].sort_values()"
   ]
  },
  {
   "cell_type": "code",
   "execution_count": null,
   "id": "fad009b7",
   "metadata": {},
   "outputs": [],
   "source": [
    "\n",
    "plt.figure(figsize=(15,7))\n",
    "\n",
    "sns.heatmap(dfm.corr(), annot=True, linewidths=0.5,linecolor=\"black\",fmt='.2f')"
   ]
  },
  {
   "cell_type": "code",
   "execution_count": null,
   "id": "3970f638",
   "metadata": {},
   "outputs": [],
   "source": [
    "dfm.describe()"
   ]
  },
  {
   "cell_type": "code",
   "execution_count": null,
   "id": "fe23bb3a",
   "metadata": {},
   "outputs": [],
   "source": [
    "plt.figure(figsize=(1080,864))\n",
    "sns.heatmap(round(dfm.describe()[1:].transpose(),linewidth=2),annot=False,fmt=\"f\")\n",
    "plt.xtricks(fontsize=18)\n",
    "plt.ytricks(fontsize=12)\n",
    "plt.title(\"Variables summary\")\n",
    "\n",
    "plt.show()"
   ]
  },
  {
   "cell_type": "code",
   "execution_count": null,
   "id": "dab87276",
   "metadata": {},
   "outputs": [],
   "source": [
    "dfm.info()"
   ]
  },
  {
   "cell_type": "code",
   "execution_count": null,
   "id": "89df74cf",
   "metadata": {},
   "outputs": [],
   "source": [
    "dfm[collist[0]]"
   ]
  },
  {
   "cell_type": "code",
   "execution_count": null,
   "id": "1124d6e9",
   "metadata": {},
   "outputs": [],
   "source": [
    "plt.figure(figsize=(ncol,3*ncol))\n",
    "for i in range (0, len(collist)):\n",
    "    plt.subplot(nrows,ncol,i+1)\n",
    "    sns.boxplot(data = dfm[collist[i]],color='green',orient='v')\n",
    "    plt.tight_layout()"
   ]
  },
  {
   "cell_type": "code",
   "execution_count": null,
   "id": "a5f48cad",
   "metadata": {},
   "outputs": [],
   "source": [
    "from sklearn.linear_model import Lasso\n",
    "\n",
    "parameters = {'alpha':[.0001,.001,.01, .1, 1, 10],'random_state':list(range(0,10))}\n",
    "\n",
    "ls = Lasso()\n",
    "clf = Grid\n",
    "clf.fit(features_train,target_train)\n",
    "\n",
    "print(clf.best_params_)\n",
    "SearchCV(ls,parameters)"
   ]
  },
  {
   "cell_type": "code",
   "execution_count": null,
   "id": "4151c87b",
   "metadata": {},
   "outputs": [],
   "source": [
    "from sklearn.model_selection import GridSearchCV\n",
    "from sklearn.model_selection import cross_val_score\n",
    "import warnings\n",
    "warnings.filterwarnings('ignore')"
   ]
  },
  {
   "cell_type": "code",
   "execution_count": null,
   "id": "cbbbe840",
   "metadata": {},
   "outputs": [],
   "source": [
    "collist"
   ]
  },
  {
   "cell_type": "code",
   "execution_count": null,
   "id": "d8cfc5b3",
   "metadata": {},
   "outputs": [],
   "source": [
    "rf = RandomForestRegressor(criterion=\"mae\",max_features=\"auto\")\n",
    "rf.fit(features_train,target_train)\n",
    "rf.score(features_train,target_train)\n",
    "pred_decision = rf.predict(features_test)\n",
    "\n",
    "rfs = r2_score(target_test,pred_decision)\n",
    "print('R2 Score:', rfs*100)\n",
    "\n",
    "rfscore = cross_val_score(rf,features,target,cv=5)\n",
    "rfc = rfscore.mean()\n",
    "print('Cross Val Score:', rfc*100)"
   ]
  },
  {
   "cell_type": "code",
   "execution_count": null,
   "id": "15cbe2e4",
   "metadata": {},
   "outputs": [],
   "source": []
  },
  {
   "cell_type": "code",
   "execution_count": null,
   "id": "e2f6b7d6",
   "metadata": {},
   "outputs": [],
   "source": []
  }
 ],
 "metadata": {
  "kernelspec": {
   "display_name": "Python 3 (ipykernel)",
   "language": "python",
   "name": "python3"
  },
  "language_info": {
   "codemirror_mode": {
    "name": "ipython",
    "version": 3
   },
   "file_extension": ".py",
   "mimetype": "text/x-python",
   "name": "python",
   "nbconvert_exporter": "python",
   "pygments_lexer": "ipython3",
   "version": "3.10.9"
  }
 },
 "nbformat": 4,
 "nbformat_minor": 5
}
